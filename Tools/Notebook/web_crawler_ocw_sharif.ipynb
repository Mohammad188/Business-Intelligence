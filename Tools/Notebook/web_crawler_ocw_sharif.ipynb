{
  "cells": [
    {
      "cell_type": "code",
      "execution_count": 2,
      "metadata": {
        "id": "lIYdn1woOS1n"
      },
      "outputs": [],
      "source": [
        "import requests\n",
        "from bs4 import BeautifulSoup\n",
        "import re"
      ]
    },
    {
      "cell_type": "code",
      "source": [
        "def get_download_links(url, xpath_base):\n",
        "  try:\n",
        "    response = requests.get(url, timeout=10)\n",
        "    response.raise_for_status() # Raise an exception for bad status codes (4xx or 5xx)\n",
        "    soup = BeautifulSoup(response.content, \"html.parser\")\n",
        "\n",
        "    download_links = []\n",
        "    link_index = 1\n",
        "\n",
        "    while link_index <= 28:\n",
        "      matches = re.finditer(r\"\\[\\d+\\]\", xpath_base)\n",
        "      start, end = matches[4]\n",
        "      xpath = xpath_base[:start] + f\"[{link_index}]\" + xpath_base[end:]\n",
        "\n",
        "      link_element = soup.select_one(f'[data-testid=\"{xpath}\"]')\n",
        "\n",
        "      href = link_element.get(\"href\")\n",
        "      if href:\n",
        "        download_links.append(href)\n",
        "\n",
        "      link_index += 1\n",
        "\n",
        "    return download_links\n",
        "\n",
        "  except requests.exceptions.RequestException as e:\n",
        "    print(f\"Error fetching URL: {e}\")\n",
        "    return None\n",
        "  except Exception as e:\n",
        "    print(f\"An error occured: {e}\")\n",
        "    return None\n"
      ],
      "metadata": {
        "id": "6BNbrlvqY0it"
      },
      "execution_count": 6,
      "outputs": []
    },
    {
      "cell_type": "code",
      "source": [
        "import requests\n",
        "from bs4 import BeautifulSoup\n",
        "import re\n",
        "import time\n",
        "\n",
        "def get_download_links(url, xpath_base):\n",
        "    headers = {\n",
        "        \"User-Agent\": \"Mozilla/5.0 (Windows NT 10.0; Win64; x64) AppleWebKit/537.36 (KHTML, like Gecko) Chrome/91.0.4472.124 Safari/537.36\"\n",
        "    }\n",
        "\n",
        "    try:\n",
        "        for attempt in range(3):  # Retry up to 3 times\n",
        "            try:\n",
        "                response = requests.get(url, timeout=10, headers=headers)\n",
        "                response.raise_for_status()\n",
        "                break\n",
        "            except requests.exceptions.RequestException as e:\n",
        "                print(f\"Attempt {attempt + 1}: Failed to connect. Retrying...\")\n",
        "                time.sleep(5)\n",
        "        else:\n",
        "            print(\"Failed to connect after 3 attempts.\")\n",
        "            return None\n",
        "\n",
        "        soup = BeautifulSoup(response.content, \"html.parser\")\n",
        "        download_links = []\n",
        "        link_index = 1\n",
        "\n",
        "        while link_index <= 28:\n",
        "            matches = list(re.finditer(r\"\\[\\d+\\]\", xpath_base))\n",
        "            if len(matches) > 4:  # Ensure the 5th match exists\n",
        "                start, end = matches[4].span()\n",
        "                xpath = xpath_base[:start] + f\"[{link_index}]\" + xpath_base[end:]\n",
        "                print(f\"Generated XPath: {xpath}\")\n",
        "\n",
        "                link_element = soup.select_one(f'[data-testid=\"{xpath}\"]')\n",
        "\n",
        "                if link_element:\n",
        "                    href = link_element.get(\"href\")\n",
        "                    if href:\n",
        "                        download_links.append(href)\n",
        "            else:\n",
        "                print(\"Invalid XPath pattern: Less than 5 matches found.\")\n",
        "                return None\n",
        "\n",
        "            link_index += 1\n",
        "\n",
        "        return download_links\n",
        "\n",
        "    except requests.exceptions.RequestException as e:\n",
        "        print(f\"Error fetching URL: {e}\")\n",
        "        return None\n",
        "    except Exception as e:\n",
        "        print(f\"An error occurred: {e}\")\n",
        "        return None\n",
        "\n",
        "# Example usage\n",
        "url = \"https://ocw.sharif.ir/course/id/371\"\n",
        "xpath_base = \"/html/body/div[1]/div/div/section/main/div/div[2]/div[3]/div[1]/div[2]/div/a[2]\"\n",
        "links = get_download_links(url, xpath_base)\n",
        "print(links)\n"
      ],
      "metadata": {
        "id": "5mR19s5SlfNd",
        "outputId": "1c1a7bc0-be57-4332-82f2-229b68c682b5",
        "colab": {
          "base_uri": "https://localhost:8080/"
        }
      },
      "execution_count": 8,
      "outputs": [
        {
          "output_type": "stream",
          "name": "stdout",
          "text": [
            "Attempt 1: Failed to connect. Retrying...\n",
            "Attempt 2: Failed to connect. Retrying...\n",
            "Attempt 3: Failed to connect. Retrying...\n",
            "Failed to connect after 3 attempts.\n",
            "None\n"
          ]
        }
      ]
    },
    {
      "cell_type": "code",
      "source": [
        "url = \"https://ocw.sharif.ir/course/id/371\"\n",
        "xpath_base = \"/html/body/div[1]/div/div/section/main/div/div[2]/div[3]/div[1]/div[1]/div/a[2]\"\n",
        "result = get_download_links(url, xpath_base)"
      ],
      "metadata": {
        "id": "2sO68Sl_jUu_",
        "outputId": "4ad047bd-4892-4b3e-ec2d-a5db20b2017b",
        "colab": {
          "base_uri": "https://localhost:8080/"
        }
      },
      "execution_count": 7,
      "outputs": [
        {
          "output_type": "stream",
          "name": "stdout",
          "text": [
            "Error fetching URL: HTTPSConnectionPool(host='ocw.sharif.ir', port=443): Max retries exceeded with url: /course/id/371 (Caused by ConnectTimeoutError(<urllib3.connection.HTTPSConnection object at 0x797a8a664430>, 'Connection to ocw.sharif.ir timed out. (connect timeout=10)'))\n"
          ]
        }
      ]
    },
    {
      "cell_type": "code",
      "source": [
        "print(result)"
      ],
      "metadata": {
        "id": "rACy8Nf1jr0Q",
        "outputId": "8e18669c-a6ba-4fb9-fd33-4452f2ac0918",
        "colab": {
          "base_uri": "https://localhost:8080/"
        }
      },
      "execution_count": 5,
      "outputs": [
        {
          "output_type": "stream",
          "name": "stdout",
          "text": [
            "None\n"
          ]
        }
      ]
    }
  ],
  "metadata": {
    "colab": {
      "name": "scratchpad",
      "provenance": []
    },
    "kernelspec": {
      "display_name": "Python 3",
      "name": "python3"
    }
  },
  "nbformat": 4,
  "nbformat_minor": 0
}